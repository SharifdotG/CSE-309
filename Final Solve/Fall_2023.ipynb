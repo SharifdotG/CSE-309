{
 "cells": [
  {
   "cell_type": "markdown",
   "metadata": {},
   "source": [
    "# **CSE 309 - Final Solve - Fall 2023**"
   ]
  },
  {
   "cell_type": "markdown",
   "metadata": {},
   "source": [
    "## **Question 1**\n",
    "\n",
    "[![image.png](https://i.postimg.cc/W3jL0NRx/image.png)](https://postimg.cc/rdhPkLw9)"
   ]
  },
  {
   "cell_type": "code",
   "execution_count": 1,
   "metadata": {},
   "outputs": [
    {
     "name": "stdout",
     "output_type": "stream",
     "text": [
      "['Alice', 'Bob', 'Charlie']\n"
     ]
    }
   ],
   "source": [
    "def pass_or_fail(grades_dict, minimum_passing_grade):\n",
    "    passing_students = []\n",
    "    for student, grades in grades_dict.items():\n",
    "        average_grade = sum(grades) / len(grades)\n",
    "        if average_grade >= minimum_passing_grade:\n",
    "            passing_students.append(student)\n",
    "    return passing_students\n",
    "\n",
    "\n",
    "grades_dict = {\n",
    "    \"Alice\": [85, 90, 88],\n",
    "    \"Bob\": [70, 75, 72],\n",
    "    \"Dane\": [10, 25, 32],\n",
    "    \"Charlie\": [92, 88, 95],\n",
    "}\n",
    "passing_grade = 40\n",
    "print(pass_or_fail(grades_dict, passing_grade))  # ['Alice', 'Bob', 'Charlie']"
   ]
  },
  {
   "cell_type": "markdown",
   "metadata": {},
   "source": [
    "## **Question 2**\n",
    "\n",
    "[![image.png](https://i.postimg.cc/SxHRcMxR/image.png)](https://postimg.cc/18cyQ461)"
   ]
  },
  {
   "cell_type": "code",
   "execution_count": 10,
   "metadata": {},
   "outputs": [
    {
     "name": "stdout",
     "output_type": "stream",
     "text": [
      "Error: Can't instantiate abstract class LibraryItem without an implementation for abstract method 'display_details'\n",
      "Book Details:\n",
      "Title: The Great Gatsby\n",
      "Author: F. Scott Fitzgerald\n",
      "Publication Date: 1925\n",
      "ISBN: 9780743273565\n",
      "The item 'The Great Gatsby' has been borrowed.\n",
      "The item 'The Great Gatsby' has been returned.\n",
      "\n",
      "\n",
      "Magazine Details:\n",
      "Title: National Geographic\n",
      "Author: Various\n",
      "Publication Date: December 2024\n",
      "Issue No: Issue 101\n",
      "The item 'National Geographic' has been borrowed.\n",
      "The item 'National Geographic' has been returned.\n"
     ]
    }
   ],
   "source": [
    "from abc import ABC, abstractmethod\n",
    "\n",
    "\n",
    "# (a) Abstract class representing an item in the library\n",
    "class LibraryItem(ABC):\n",
    "    def __init__(self, title, author, publication_date):\n",
    "        self.title = title\n",
    "        self.author = author\n",
    "        self.publication_date = publication_date\n",
    "\n",
    "    @abstractmethod\n",
    "    def display_details(self):\n",
    "        pass\n",
    "\n",
    "    def borrow(self):\n",
    "        print(f\"The item '{self.title}' has been borrowed.\")\n",
    "\n",
    "    def return_item(self):\n",
    "        print(f\"The item '{self.title}' has been returned.\")\n",
    "\n",
    "\n",
    "# (b) Subclass representing a book\n",
    "class Book(LibraryItem):\n",
    "    def __init__(self, title, author, publication_date, isbn):\n",
    "        super().__init__(title, author, publication_date)\n",
    "        self.isbn = isbn\n",
    "\n",
    "    def display_details(self):\n",
    "        print(\n",
    "            f\"Book Details:\\nTitle: {self.title}\\nAuthor: {self.author}\\nPublication Date: {self.publication_date}\\nISBN: {self.isbn}\"\n",
    "        )\n",
    "\n",
    "\n",
    "# (b) Subclass representing a magazine\n",
    "class Magazine(LibraryItem):\n",
    "    def __init__(self, title, author, publication_date, issue_no):\n",
    "        super().__init__(title, author, publication_date)\n",
    "        self.issue_no = issue_no\n",
    "\n",
    "    def display_details(self):\n",
    "        print(\n",
    "            f\"Magazine Details:\\nTitle: {self.title}\\nAuthor: {self.author}\\nPublication Date: {self.publication_date}\\nIssue No: {self.issue_no}\"\n",
    "        )\n",
    "\n",
    "\n",
    "\n",
    "try:\n",
    "    # Attempt to create an object of the abstract class (will raise an error)\n",
    "    library_item = LibraryItem(\"Generic Item\", \"Author Name\", \"2024\")\n",
    "except TypeError as e:\n",
    "    print(\"Error:\", e)\n",
    "\n",
    "# Creating a Book object\n",
    "book = Book(\"The Great Gatsby\", \"F. Scott Fitzgerald\", \"1925\", \"9780743273565\")\n",
    "book.display_details()\n",
    "book.borrow()\n",
    "book.return_item()\n",
    "\n",
    "print(\"\\n\")\n",
    "\n",
    "# Creating a Magazine object\n",
    "magazine = Magazine(\"National Geographic\", \"Various\", \"December 2024\", \"Issue 101\")\n",
    "magazine.display_details()\n",
    "magazine.borrow()\n",
    "magazine.return_item()\n"
   ]
  },
  {
   "cell_type": "markdown",
   "metadata": {},
   "source": [
    "## **Question 2**\n",
    "\n",
    "<img src=\"https://i.postimg.cc/SQBSL3hp/image.png\" alt=\"Question 2\"/>"
   ]
  },
  {
   "cell_type": "markdown",
   "metadata": {},
   "source": [
    "```html\n",
    "<!DOCTYPE html>\n",
    "<html>\n",
    "    <head>\n",
    "        <title>Question 2</title>\n",
    "    </head>\n",
    "    <body>\n",
    "        <table border=\"1\">\n",
    "            <tr>\n",
    "                <th>Serial No.</th>\n",
    "                <th>Product Name</th>\n",
    "                <th>Product Price</th>\n",
    "            </tr>\n",
    "            <tr>\n",
    "                <td>1.</td>\n",
    "                <td>Rice</td>\n",
    "                <td>150</td>\n",
    "            </tr>\n",
    "            <tr>\n",
    "                <td>2.</td>\n",
    "                <td>Meat</td>\n",
    "                <td>350</td>\n",
    "            </tr>\n",
    "            <tr>\n",
    "                <td colspan=\"2\">Total</td>\n",
    "                <td>500</td>\n",
    "            </tr>\n",
    "        </table>\n",
    "    </body>\n",
    "</html>\n",
    "```\n"
   ]
  },
  {
   "cell_type": "markdown",
   "metadata": {},
   "source": [
    "## **Question 3**\n",
    "\n",
    "<img src=\"https://i.postimg.cc/sfp88NWz/image.png\" alt=\"Question 3\"/>"
   ]
  },
  {
   "cell_type": "code",
   "execution_count": 10,
   "metadata": {},
   "outputs": [
    {
     "name": "stdout",
     "output_type": "stream",
     "text": [
      "Brand: Toyota, Model: Camry, Year: 2020\n",
      "Mileage: 15 km/l\n"
     ]
    }
   ],
   "source": [
    "# a. Main class\n",
    "class Vehicle:\n",
    "    def __init__(self, brand, model, year):\n",
    "        self.brand = brand\n",
    "        self.model = model\n",
    "        self.year = year\n",
    "\n",
    "    def describe(self):\n",
    "        return f\"Brand: {self.brand}, Model: {self.model}, Year: {self.year}\"\n",
    "    \n",
    "# b. Subclass extending Vehicle\n",
    "class Car(Vehicle):\n",
    "    def __init__(self, brand, model, year, mileage):\n",
    "        super().__init__(brand, model, year)\n",
    "        self.mileage = mileage\n",
    "\n",
    "    def calculate_mileage(self):\n",
    "        return f\"Mileage: {self.mileage} km/l\"\n",
    "    \n",
    "# c. Example of creating a Car object and using its methods\n",
    "my_car = Car(\"Toyota\", \"Camry\", 2020, 15)\n",
    "\n",
    "print(my_car.describe())\n",
    "print(my_car.calculate_mileage())\n"
   ]
  }
 ],
 "metadata": {
  "kernelspec": {
   "display_name": "Python 3",
   "language": "python",
   "name": "python3"
  },
  "language_info": {
   "codemirror_mode": {
    "name": "ipython",
    "version": 3
   },
   "file_extension": ".py",
   "mimetype": "text/x-python",
   "name": "python",
   "nbconvert_exporter": "python",
   "pygments_lexer": "ipython3",
   "version": "3.13.1"
  }
 },
 "nbformat": 4,
 "nbformat_minor": 2
}
