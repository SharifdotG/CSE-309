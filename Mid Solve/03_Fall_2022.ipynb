{
 "cells": [
  {
   "cell_type": "markdown",
   "metadata": {},
   "source": [
    "# **CSE 309 - Mid Solve - Fall 2022**"
   ]
  },
  {
   "cell_type": "markdown",
   "metadata": {},
   "source": [
    "## **Question 1.a**\n",
    "\n",
    "<img src=\"https://i.postimg.cc/bJLB6RpQ/image.png\" alt=\"Question 1.a.1\"/>\n",
    "<img src=\"https://i.postimg.cc/pr61vX9r/image.png\" alt=\"Question 1.a.2\"/>"
   ]
  },
  {
   "cell_type": "markdown",
   "metadata": {},
   "source": [
    "To solve this problem, where to display a list of authors and books, let's follow these steps:\n",
    "\n",
    "### **Step 1: Set up URLs**\n",
    "\n",
    "We need to map the two URLs `/authors` and `/books` to the corresponding views. Update the `urls.py` file.\n",
    "\n",
    "```python\n",
    "# urls.py\n",
    "from django.urls import path\n",
    "from home import views\n",
    "\n",
    "urlpatterns = [\n",
    "    path('authors/', views.author_list, name='author_list'),\n",
    "    path('books/', views.book_list, name='book_list'),\n",
    "]\n",
    "```\n",
    "\n",
    "### **Step 2: Create Views**\n",
    "\n",
    "Next, we have to create the views that will handle these requests in the `views.py` file. These views will render the corresponding HTML templates.\n",
    "\n",
    "```python\n",
    "# views.py\n",
    "from django.shortcuts import render\n",
    "\n",
    "# View for authors list\n",
    "def author_list(request):\n",
    "    # We can fetch data from your database here\n",
    "    authors = ['Author 1', 'Author 2', 'Author 3']  # Example data\n",
    "    return render(request, 'author_list.html', {'authors': authors})\n",
    "\n",
    "# View for books list\n",
    "def book_list(request):\n",
    "    # We can fetch data from your database here\n",
    "    books = ['Book 1', 'Book 2', 'Book 3']  # Example data\n",
    "    return render(request, 'book_list.html', {'books': books})\n",
    "```\n",
    "\n",
    "### **Step 3: Create Templates**\n",
    "\n",
    "In our `home/templates/` folder, we already have the two HTML files: `author_list.html` and `book_list.html`. We can add some simple code to display the authors and books.\n",
    "\n",
    "#### `author_list.html`\n",
    "\n",
    "```html\n",
    "<!DOCTYPE html>\n",
    "<html>\n",
    "    <head>\n",
    "        <title>Authors</title>\n",
    "    </head>\n",
    "    <body>\n",
    "        <h1>List of Authors</h1>\n",
    "        <ul>\n",
    "            {% for author in authors %}\n",
    "            <li>{{ author }}</li>\n",
    "            {% endfor %}\n",
    "        </ul>\n",
    "    </body>\n",
    "</html>\n",
    "```\n",
    "\n",
    "#### `book_list.html`\n",
    "\n",
    "```html\n",
    "<!DOCTYPE html>\n",
    "<html>\n",
    "    <head>\n",
    "        <title>Books</title>\n",
    "    </head>\n",
    "    <body>\n",
    "        <h1>List of Books</h1>\n",
    "        <ul>\n",
    "            {% for book in books %}\n",
    "            <li>{{ book }}</li>\n",
    "            {% endfor %}\n",
    "        </ul>\n",
    "    </body>\n",
    "</html>\n",
    "```"
   ]
  },
  {
   "cell_type": "markdown",
   "metadata": {},
   "source": [
    "## **Question 2**\n",
    "\n",
    "<img src=\"https://i.postimg.cc/rFw44NDS/image.png\" alt=\"Question 2\"/>"
   ]
  },
  {
   "cell_type": "code",
   "execution_count": null,
   "metadata": {},
   "outputs": [],
   "source": [
    "# 2.a\n",
    "x = int(input())\n",
    "y = int(input())\n",
    "for i in range(x + 1, y):\n",
    "    if i % 5 == 0:\n",
    "        print(i)\n",
    "        \n",
    "# 2.b\n",
    "# Write a program in python that will take a year as an input and print if the year is leap year or not. A year is called a leap year if it is divisibleby 4 but not divisible by 100, and if divisible by 100 then also divisible by 400.\n",
    "year = int(input())\n",
    "if year % 4 == 0 and year % 100 != 0 or year % 400 == 0:\n",
    "    print(\"Leap year\")\n",
    "else:\n",
    "    print(\"Not a leap year\")"
   ]
  },
  {
   "cell_type": "markdown",
   "metadata": {},
   "source": [
    "## **Question 3**\n",
    "\n",
    "<img src=\"https://i.postimg.cc/PJ1jK5dg/image.png\" alt=\"Question 3\"/>"
   ]
  },
  {
   "cell_type": "code",
   "execution_count": 4,
   "metadata": {},
   "outputs": [
    {
     "name": "stdout",
     "output_type": "stream",
     "text": [
      "5\n",
      "15\n",
      "20\n"
     ]
    }
   ],
   "source": [
    "# 3.a\n",
    "def gcd(a, b):\n",
    "    if b == 0:\n",
    "        return a\n",
    "    \n",
    "    return gcd(b, a % b)\n",
    "\n",
    "print(gcd(10, 15)) # 5\n",
    "\n",
    "# 3.b\n",
    "def add(a, b = 10):\n",
    "    return a + b\n",
    "\n",
    "# In the above code, the function add takes two parameters a and b.\n",
    "# The second parameter b is a default parameter. If the value of b is not passed, it will take the default value 10.\n",
    "# If the value of b is passed, it will take the passed value.\n",
    "print(add(5)) # 5 + 10 = 15\n",
    "print(add(5, 15)) # 5 + 15 = 20"
   ]
  },
  {
   "cell_type": "markdown",
   "metadata": {},
   "source": [
    "## **Question 4**\n",
    "\n",
    "<img src=\"https://i.postimg.cc/bJbfgwTQ/image.png\" alt=\"Question 4\"/>"
   ]
  },
  {
   "cell_type": "code",
   "execution_count": 6,
   "metadata": {},
   "outputs": [
    {
     "name": "stdout",
     "output_type": "stream",
     "text": [
      "{'Rice': 30, 'Chicken': 120, 'Fish': 200}\n",
      "15\n",
      "name : John\n",
      "age : 30\n",
      "city : New York\n"
     ]
    }
   ],
   "source": [
    "# 4.a\n",
    "def make_dict(foods, prices):\n",
    "    d = {}\n",
    "    for i in range(len(foods)):\n",
    "        if prices[i] <= 1000:\n",
    "            d[foods[i]] = prices[i]\n",
    "    return d\n",
    "\n",
    "foods = [\"Rice\", \"Chicken\", \"Beef\", \"Fish\"]\n",
    "prices = [30, 120, 1500, 200]\n",
    "print(make_dict(foods, prices)) # {'Rice': 30, 'Chicken': 120, 'Fish': 200}\n",
    "\n",
    "# 4.b\n",
    "'''\n",
    "Variable length arguments in python functions can be used by using the *args and **kwargs parameters.\n",
    "The *args parameter is used to pass a variable number of non-keyword arguments to a function.\n",
    "The **kwargs parameter is used to pass a variable number of keyword arguments to a function.\n",
    "\n",
    "Example:\n",
    "'''\n",
    "def add(*args):\n",
    "    total = 0\n",
    "    for i in args:\n",
    "        total += i\n",
    "    return total\n",
    "\n",
    "print(add(1, 2, 3, 4, 5)) # 1 + 2 + 3 + 4 + 5 = 15\n",
    "\n",
    "def print_info(**kwargs):\n",
    "    for key, value in kwargs.items():\n",
    "        print(key, \":\", value)\n",
    "        \n",
    "print_info(name = \"John\", age = 30, city = \"New York\")"
   ]
  }
 ],
 "metadata": {
  "kernelspec": {
   "display_name": ".NET (C#)",
   "language": "C#",
   "name": ".net-csharp"
  },
  "language_info": {
   "codemirror_mode": {
    "name": "ipython",
    "version": 3
   },
   "file_extension": ".py",
   "mimetype": "text/x-python",
   "name": "python",
   "nbconvert_exporter": "python",
   "pygments_lexer": "ipython3",
   "version": "3.13.0"
  },
  "polyglot_notebook": {
   "kernelInfo": {
    "defaultKernelName": "csharp",
    "items": [
     {
      "aliases": [],
      "name": "csharp"
     }
    ]
   }
  }
 },
 "nbformat": 4,
 "nbformat_minor": 2
}
