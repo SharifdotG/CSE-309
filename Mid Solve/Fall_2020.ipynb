{
 "cells": [
  {
   "cell_type": "markdown",
   "metadata": {},
   "source": [
    "# **CSE 309 - Mid Solve - Fall 2020**"
   ]
  },
  {
   "cell_type": "markdown",
   "metadata": {},
   "source": [
    "## **Question 1 (a)**\n",
    "\n",
    "[![image.png](https://i.postimg.cc/2SCBWKDc/image.png)](https://postimg.cc/9rNM51zZ)"
   ]
  },
  {
   "cell_type": "markdown",
   "metadata": {},
   "source": [
    "Here is how we can categorize the inheritance relationships based on the passage about Muggles, Wizards, and Half-Bloods:\n",
    "\n",
    "### i. **Hierarchical Inheritance**  \n",
    "In hierarchical inheritance, multiple subclasses inherit from a single parent class. Here:\n",
    "- **Parent Class**: Person  \n",
    "- **Child Classes**: Wizard, Muggle  \n",
    "\n",
    "Diagram:\n",
    "```\n",
    "    Person\n",
    "   /     \\\n",
    "Wizard   Muggle\n",
    "```\n",
    "\n",
    "---\n",
    "\n",
    "### ii. **Multilevel Inheritance**  \n",
    "In multilevel inheritance, a class inherits from another class, which itself inherits from a parent class. Here:\n",
    "- **Grandparent Class**: Person  \n",
    "- **Parent Class**: Wizard  \n",
    "- **Child Class**: Half-Blood  \n",
    "\n",
    "Diagram:\n",
    "```\n",
    "Person\n",
    "   |\n",
    "Wizard\n",
    "   |\n",
    "Half-Blood\n",
    "```\n",
    "\n",
    "---\n",
    "\n",
    "### iii. **Multiple Inheritance**  \n",
    "In multiple inheritance, a class inherits from two or more parent classes. This scenario fits the concept of Half-Blood, where:\n",
    "- **Parent Classes**: Wizard, Muggle  \n",
    "- **Child Class**: Half-Blood  \n",
    "\n",
    "Diagram:\n",
    "```\n",
    "Wizard     Muggle\n",
    "     \\       /\n",
    "      Half-Blood\n",
    "```\n",
    "\n",
    "---\n",
    "\n",
    "### iv. **Hybrid Inheritance**  \n",
    "Hybrid inheritance combines two or more types of inheritance (e.g., hierarchical and multiple). In this case:\n",
    "- **Hierarchical Part**: Person → Wizard, Muggle  \n",
    "- **Multiple Part**: Half-Blood inherits from both Wizard and Muggle.  \n",
    "\n",
    "Diagram:\n",
    "```\n",
    "        Person\n",
    "       /     \\\n",
    "   Wizard   Muggle\n",
    "       \\       /\n",
    "        Half-Blood\n",
    "```"
   ]
  },
  {
   "cell_type": "markdown",
   "metadata": {},
   "source": [
    "## **Question 1 (b)**\n",
    "\n",
    "[![image.png](https://i.postimg.cc/Hx7hM2Dx/image.png)](https://postimg.cc/1nsBhDzh)\n",
    "[![image.png](https://i.postimg.cc/CKJqNT0r/image.png)](https://postimg.cc/yJgx1Gk0)"
   ]
  },
  {
   "cell_type": "code",
   "execution_count": 1,
   "metadata": {},
   "outputs": [
    {
     "name": "stdout",
     "output_type": "stream",
     "text": [
      "Carnivorous food habit set: ['meat', 'fish', 'chicken']\n",
      "Herbivorous food habit set: ['grass', 'leaves', 'fruits']\n"
     ]
    }
   ],
   "source": [
    "from abc import ABC, abstractmethod\n",
    "\n",
    "\n",
    "# Abstract class\n",
    "class Animal(ABC):\n",
    "    def __init__(self):\n",
    "        self.food_list = []  # Initialize an empty list to store food items\n",
    "\n",
    "    @abstractmethod\n",
    "    def set_food_habit(self):\n",
    "        pass  # Abstract method to be implemented by subclasses\n",
    "\n",
    "\n",
    "# Carnivorous class\n",
    "class Carnivorous(Animal):\n",
    "    def set_food_habit(self):\n",
    "        self.food_list = [\"meat\", \"fish\", \"chicken\"]  # Adding food items for carnivores\n",
    "        print(\"Carnivorous food habit set:\", self.food_list)\n",
    "\n",
    "\n",
    "# Herbivorous class\n",
    "class Herbivorous(Animal):\n",
    "    def set_food_habit(self):\n",
    "        self.food_list = [\n",
    "            \"grass\",\n",
    "            \"leaves\",\n",
    "            \"fruits\",\n",
    "        ]  # Adding food items for herbivores\n",
    "        print(\"Herbivorous food habit set:\", self.food_list)\n",
    "\n",
    "\n",
    "# Example usage\n",
    "if __name__ == \"__main__\":\n",
    "    # Creating an object of Carnivorous and setting its food habit\n",
    "    lion = Carnivorous()\n",
    "    lion.set_food_habit()\n",
    "\n",
    "    # Creating an object of Herbivorous and setting its food habit\n",
    "    deer = Herbivorous()\n",
    "    deer.set_food_habit()\n"
   ]
  },
  {
   "cell_type": "markdown",
   "metadata": {},
   "source": [
    "## **Question 2**\n",
    "\n",
    "[![image.png](https://i.postimg.cc/t4f9hBnQ/image.png)](https://postimg.cc/WdGRV67X)"
   ]
  },
  {
   "cell_type": "markdown",
   "metadata": {},
   "source": [
    "Here is how to make the necessary changes and explain the code flow for creating the personal profile and favorite book pages with the specified URLs and content. \n",
    "\n",
    "---\n",
    "\n",
    "### 1. **`personal_profile.html`**\n",
    "\n",
    "**Desired Output:**\n",
    "\n",
    "```html\n",
    "<!DOCTYPE html>\n",
    "<html lang=\"en\">\n",
    "<head>\n",
    "    <meta charset=\"UTF-8\">\n",
    "    <meta name=\"viewport\" content=\"width=device-width, initial-scale=1.0\">\n",
    "    <title>Personal Profile</title>\n",
    "</head>\n",
    "<body>\n",
    "    <h1>Personal Profile</h1>\n",
    "    <p>Name: Sharif Md. Yousuf</p>\n",
    "    <p>Role: Class Representative (CR), UAP CSE 3rd-year</p>\n",
    "    <p>Technical Lead: UAP Programming Contest Club</p>\n",
    "</body>\n",
    "</html>\n",
    "```\n",
    "\n",
    "---\n",
    "\n",
    "### 2. **`favourite_book.html`**\n",
    "\n",
    "**Desired Output:**\n",
    "\n",
    "```html\n",
    "<!DOCTYPE html>\n",
    "<html lang=\"en\">\n",
    "<head>\n",
    "    <meta charset=\"UTF-8\">\n",
    "    <meta name=\"viewport\" content=\"width=device-width, initial-scale=1.0\">\n",
    "    <title>Favourite Book</title>\n",
    "</head>\n",
    "<body>\n",
    "    <h1>Favourite Book</h1>\n",
    "    <p>Book Name: \"The Alchemist\"</p>\n",
    "    <p>Description: A novel by Paulo Coelho that explores the journey of a shepherd boy, Santiago, as he pursues his dream of finding treasure while learning about life, love, and the Soul of the World.</p>\n",
    "</body>\n",
    "</html>\n",
    "```\n",
    "\n",
    "---\n",
    "\n",
    "### 3. **`urls.py`**\n",
    "\n",
    "Update the `urls.py` file to include paths for both pages.\n",
    "\n",
    "```python\n",
    "from django.urls import path\n",
    "from . import views\n",
    "\n",
    "urlpatterns = [\n",
    "    path('home/<str:full_name>/', views.personal_profile, name='personal_profile'),\n",
    "    path('home/<str:book_name>/', views.favourite_book, name='favourite_book'),\n",
    "]\n",
    "```\n",
    "\n",
    "**Explanation:**\n",
    "- `path('home/<str:full_name>/')`: Captures a string parameter `full_name` and routes the request to the `personal_profile` view.\n",
    "- `path('home/<str:book_name>/')`: Captures a string parameter `book_name` and routes the request to the `favourite_book` view.\n",
    "- The parameters allow dynamic URL generation based on the input provided.\n",
    "\n",
    "---\n",
    "\n",
    "### 4. **`views.py`**\n",
    "\n",
    "Define views for rendering the `personal_profile` and `favourite_book` pages.\n",
    "\n",
    "```python\n",
    "from django.shortcuts import render\n",
    "\n",
    "def personal_profile(request, full_name):\n",
    "    # Check if the name matches to personalize the content\n",
    "    if full_name == \"Sharif Md. Yousuf\":\n",
    "        context = {\n",
    "            \"name\": \"Sharif Md. Yousuf\",\n",
    "            \"role\": \"Class Representative (CR), UAP CSE 3rd-year\",\n",
    "            \"technical_lead\": \"UAP Programming Contest Club\",\n",
    "        }\n",
    "    else:\n",
    "        context = {\n",
    "            \"name\": full_name,\n",
    "            \"role\": \"N/A\",\n",
    "            \"technical_lead\": \"N/A\",\n",
    "        }\n",
    "    return render(request, 'personal_profile.html', context)\n",
    "\n",
    "def favourite_book(request, book_name):\n",
    "    # Check if the book matches the favorite book\n",
    "    if book_name == \"The Alchemist\":\n",
    "        context = {\n",
    "            \"book_name\": \"The Alchemist\",\n",
    "            \"description\": \"A novel by Paulo Coelho that explores the journey of a shepherd boy, Santiago, as he pursues his dream of finding treasure while learning about life, love, and the Soul of the World.\",\n",
    "        }\n",
    "    else:\n",
    "        context = {\n",
    "            \"book_name\": book_name,\n",
    "            \"description\": \"Description not available.\",\n",
    "        }\n",
    "    return render(request, 'favourite_book.html', context)\n",
    "```\n",
    "\n",
    "**Explanation:**\n",
    "- **`personal_profile` View**: Takes `full_name` as input, checks if it matches \"Sharif Md. Yousuf,\" and dynamically populates the `context` dictionary. The context is passed to `personal_profile.html` to render personalized information.\n",
    "- **`favourite_book` View**: Takes `book_name` as input, checks if it matches \"The Alchemist,\" and dynamically populates the `context` dictionary. The context is passed to `favourite_book.html` for rendering book details."
   ]
  },
  {
   "cell_type": "markdown",
   "metadata": {},
   "source": [
    "## **Question 3 (a)**\n",
    "\n",
    "[![image.png](https://i.postimg.cc/pdY12THG/image.png)](https://postimg.cc/2qyxGC3h)"
   ]
  },
  {
   "cell_type": "code",
   "execution_count": null,
   "metadata": {},
   "outputs": [],
   "source": [
    "id = 22101128\n",
    "x, y = id, id + 1000\n",
    "\n",
    "for num in range(x + 1, y):\n",
    "    if num % 2 != 0:\n",
    "        print(num)\n"
   ]
  },
  {
   "cell_type": "markdown",
   "metadata": {},
   "source": [
    "## **Question 3 (b)**\n",
    "\n",
    "[![image.png](https://i.postimg.cc/nzVZxg6m/image.png)](https://postimg.cc/gw71qScc)"
   ]
  },
  {
   "cell_type": "code",
   "execution_count": 3,
   "metadata": {},
   "outputs": [
    {
     "name": "stdout",
     "output_type": "stream",
     "text": [
      "True\n",
      "False\n"
     ]
    }
   ],
   "source": [
    "def isDivisibleByThreeAndFive(number):\n",
    "    return number % 3 == 0 and number % 5 == 0\n",
    "\n",
    "\n",
    "print(isDivisibleByThreeAndFive(15))  # Output: True\n",
    "print(isDivisibleByThreeAndFive(10))  # Output: False"
   ]
  },
  {
   "cell_type": "markdown",
   "metadata": {},
   "source": [
    "## **Question 4**\n",
    "\n",
    "[![image.png](https://i.postimg.cc/Bn125w72/image.png)](https://postimg.cc/9DC4C1hf)"
   ]
  },
  {
   "cell_type": "code",
   "execution_count": 4,
   "metadata": {
    "dotnet_interactive": {
     "language": "csharp"
    },
    "polyglot_notebook": {
     "kernelName": "csharp"
    }
   },
   "outputs": [
    {
     "name": "stdout",
     "output_type": "stream",
     "text": [
      "19\n"
     ]
    }
   ],
   "source": [
    "def max_sum(list1, list2):\n",
    "    sum1 = sum2 = 0\n",
    "\n",
    "    for i in range(0, len(list1)):\n",
    "        if i % 3 == 0:\n",
    "            sum1 += list1[i]\n",
    "\n",
    "    for i in range(0, len(list2)):\n",
    "        if i % 5 == 0:\n",
    "            sum2 += list2[i]\n",
    "\n",
    "    return max(sum1, sum2)\n",
    "\n",
    "\n",
    "list1 = [1, 5, 3, 2, 8, 9, 5, 6, 3, 10]\n",
    "list2 = [2, 6, 4, 8, 10, 11, 7, 3, 9, 5, 6, 1]\n",
    "\n",
    "result = max_sum(list1, list2)\n",
    "print(result)"
   ]
  }
 ],
 "metadata": {
  "kernelspec": {
   "display_name": "Python 3",
   "language": "python",
   "name": "python3"
  },
  "language_info": {
   "codemirror_mode": {
    "name": "ipython",
    "version": 3
   },
   "file_extension": ".py",
   "mimetype": "text/x-python",
   "name": "python",
   "nbconvert_exporter": "python",
   "pygments_lexer": "ipython3",
   "version": "3.13.1"
  },
  "polyglot_notebook": {
   "kernelInfo": {
    "defaultKernelName": "csharp",
    "items": [
     {
      "aliases": [],
      "name": "csharp"
     }
    ]
   }
  }
 },
 "nbformat": 4,
 "nbformat_minor": 2
}
