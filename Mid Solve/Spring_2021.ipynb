{
 "cells": [
  {
   "cell_type": "markdown",
   "metadata": {},
   "source": [
    "# **CSE 309 - Mid Solve - Spring 2021**"
   ]
  },
  {
   "cell_type": "markdown",
   "metadata": {},
   "source": [
    "## **Question 1.a**\n",
    "\n",
    "[![image.png](https://i.postimg.cc/gJhMwMyD/image.png)](https://postimg.cc/629Vgfm2)"
   ]
  },
  {
   "cell_type": "markdown",
   "metadata": {},
   "source": [
    "## **Explain the difference between Class Attribute and Instance Attribute with examples.**\n",
    "\n",
    "### **Answer:**\n",
    "\n",
    "**Class Attribute:**\n",
    "\n",
    "A class attribute is a Python variable that belongs to a class rather than a particular object. It is shared between all the objects of the class. It is defined outside the constructor method `__init__()` and is accessed using the class name. Class attributes are the same for all instances of a class. It is defined within the class definition but outside any of the class's methods.\n",
    "\n",
    "**Example:**\n",
    "\n",
    "```python\n",
    "class Student:\n",
    "    # Class Attribute\n",
    "    department = \"CSE\"\n",
    "\n",
    "    def __init__(self, name, id):\n",
    "        # Instance Attributes\n",
    "        self.name = name\n",
    "        self.id = id\n",
    "\n",
    "# Accessing Class Attribute\n",
    "print(Student.department)\n",
    "```"
   ]
  },
  {
   "cell_type": "markdown",
   "metadata": {},
   "source": [
    "## **Question 1.b**\n",
    "\n",
    "[![image.png](https://i.postimg.cc/7Y9KTJzp/image.png)](https://postimg.cc/pp9fwTqZ)"
   ]
  },
  {
   "cell_type": "code",
   "execution_count": 3,
   "metadata": {},
   "outputs": [
    {
     "name": "stdout",
     "output_type": "stream",
     "text": [
      "Speed: 100 Km/h\n",
      "Number of Wheel: 4\n",
      "Speed: 100 m/s\n",
      "Number of Wheel: 3\n",
      "Speed: 100 Km/h\n",
      "Number of Wheel: 4\n",
      "Fuel Type: Gas\n",
      "Speed: 100 Km/h\n",
      "Number of Wheel: 6\n",
      "Fuel Type: Diesel\n"
     ]
    }
   ],
   "source": [
    "'''\n",
    "Suppose, we have four class named Vehicle, Car, Truck, and\n",
    "Rickshaw. Write a Program to incorporate the following instructions.\n",
    "i) Vehicle class has two attributes: Speed [in Km/h],\n",
    "Number_of_Wheel and a method Information (self) which prints the\n",
    "Speed in Km/h and Number_of_Wheel.\n",
    "ii) Rickshaw inherits the property of the Vehicle class and rewrite the\n",
    "Information (self) so that it can print the Speed in m/s and\n",
    "Number_of_Wheel.\n",
    "iii) Car and Truck class inherit the property of the Vehicle class and\n",
    "include new attribute named Fuel_Type. [Suppose car use gas and\n",
    "truck use diesel]. Rewrite the Information (self) so that it can print the\n",
    "Speed in Km/h, Fuel_Type and Number_of_Wheel.\n",
    "'''\n",
    "\n",
    "class Vehicle:\n",
    "    def __init__(self, speed, number_of_wheel):\n",
    "        self.speed = speed\n",
    "        self.number_of_wheel = number_of_wheel\n",
    "\n",
    "    def information(self):\n",
    "        print(f\"Speed: {self.speed} Km/h\")\n",
    "        print(f\"Number of Wheel: {self.number_of_wheel}\")\n",
    "        \n",
    "        \n",
    "class Rickshaw(Vehicle):\n",
    "    def information(self):\n",
    "        print(f\"Speed: {self.speed} m/s\")\n",
    "        print(f\"Number of Wheel: {self.number_of_wheel}\")\n",
    "        \n",
    "        \n",
    "class Car(Vehicle):\n",
    "    def __init__(self, speed, number_of_wheel, fuel_type):\n",
    "        super().__init__(speed, number_of_wheel)\n",
    "        self.fuel_type = fuel_type\n",
    "\n",
    "    def information(self):\n",
    "        print(f\"Speed: {self.speed} Km/h\")\n",
    "        print(f\"Number of Wheel: {self.number_of_wheel}\")\n",
    "        print(f\"Fuel Type: {self.fuel_type}\")\n",
    "        \n",
    "        \n",
    "class Truck(Vehicle):\n",
    "    def __init__(self, speed, number_of_wheel, fuel_type):\n",
    "        super().__init__(speed, number_of_wheel)\n",
    "        self.fuel_type = fuel_type\n",
    "\n",
    "    def information(self):\n",
    "        print(f\"Speed: {self.speed} Km/h\")\n",
    "        print(f\"Number of Wheel: {self.number_of_wheel}\")\n",
    "        print(f\"Fuel Type: {self.fuel_type}\")\n",
    "        \n",
    "# Example\n",
    "v = Vehicle(100, 4)\n",
    "v.information()\n",
    "\n",
    "r = Rickshaw(100, 3)\n",
    "r.information()\n",
    "\n",
    "c = Car(100, 4, \"Gas\")\n",
    "c.information()\n",
    "\n",
    "t = Truck(100, 6, \"Diesel\")\n",
    "t.information()\n",
    "        \n"
   ]
  },
  {
   "cell_type": "markdown",
   "metadata": {},
   "source": [
    "## **Question 2.a**\n",
    "\n",
    "[![image.png](https://i.postimg.cc/0jf0mhzp/image.png)](https://postimg.cc/bSZnfCHJ)"
   ]
  },
  {
   "cell_type": "markdown",
   "metadata": {},
   "source": [
    "## **Explain the difference among inline, internal, and external CSS with examples.**\n",
    "\n",
    "### **Answer:**\n",
    "\n",
    "**Inline CSS:**\n",
    "\n",
    "Inline CSS is used to apply a unique style to a single HTML element. It is defined within the HTML tag using the `style` attribute. Inline CSS has the highest priority and overrides all other styles. It is not recommended to use inline CSS for styling as it makes the code less maintainable. It is useful when you want to apply a unique style to a single element.\n",
    "\n",
    "**Example:**\n",
    "\n",
    "```html\n",
    "<!DOCTYPE html>\n",
    "<html>\n",
    "    <head>\n",
    "        <title>Inline CSS Example</title>\n",
    "    </head>\n",
    "    <body>\n",
    "        <h1 style=\"color: red;\">This is a heading</h1>\n",
    "    </body>\n",
    "</html>\n",
    "```\n",
    "\n",
    "**Internal CSS:**\n",
    "\n",
    "Internal CSS is used to apply a style to a single HTML page. It is defined within the `<style>` tag in the head section of the HTML document. Internal CSS has a medium priority and overrides external CSS but is overridden by inline CSS. It is useful when you want to apply a style to a single page. It is recommended to use internal CSS for styling a single page.\n",
    "\n",
    "**Example:**\n",
    "\n",
    "```html\n",
    "<!DOCTYPE html>\n",
    "<html>\n",
    "    <head>\n",
    "        <title>Internal CSS Example</title>\n",
    "        <style>\n",
    "            h1 {\n",
    "                color: blue;\n",
    "            }\n",
    "        </style>\n",
    "    </head>\n",
    "    <body>\n",
    "        <h1>This is a heading</h1>\n",
    "    </body>\n",
    "</html>\n",
    "```\n",
    "\n",
    "**External CSS:**\n",
    "\n",
    "External CSS is used to apply a style to multiple HTML pages. It is defined in a separate CSS file and linked to the HTML document using the `<link>` tag. External CSS has the lowest priority and can be overridden by inline and internal CSS. It is useful when you want to apply a style to multiple pages. It is recommended to use external CSS for styling multiple pages.\n",
    "\n",
    "**Example:**\n",
    "\n",
    "```html\n",
    "<!DOCTYPE html>\n",
    "<html>\n",
    "    <head>\n",
    "        <title>External CSS Example</title>\n",
    "        <link rel=\"stylesheet\" type=\"text/css\" href=\"styles.css\">\n",
    "    </head>\n",
    "    <body>\n",
    "        <h1>This is a heading</h1>\n",
    "    </body>\n",
    "</html>\n",
    "```"
   ]
  },
  {
   "cell_type": "markdown",
   "metadata": {},
   "source": [
    "## **Question 2.b**\n",
    "\n",
    "[![image.png](https://i.postimg.cc/T1Cnhms0/image.png)](https://postimg.cc/hQQX5JcQ)"
   ]
  },
  {
   "cell_type": "markdown",
   "metadata": {},
   "source": [
    "```html\n",
    "<!DOCTYPE html>\n",
    "<html>\n",
    "    <head>\n",
    "        <title>External CSS Example</title>\n",
    "    </head>\n",
    "    <body>\n",
    "        <form>\n",
    "            First Name: <input type=\"text\" name=\"fname\" /><br />\n",
    "            Last Name: <input type=\"text\" name=\"lname\" /><br />\n",
    "            Gender:\n",
    "            <input type=\"radio\" name=\"gender\" value=\"male\" /> Male\n",
    "            <input type=\"radio\" name=\"gender\" value=\"female\" /> Female<br />\n",
    "            Password: <input type=\"password\" name=\"password\" /><br />\n",
    "            Profile Image: <input type=\"file\" name=\"profile\" /><br />\n",
    "            <input type=\"submit\" value=\"Submit\" />\n",
    "        </form>\n",
    "    </body>\n",
    "</html>\n",
    "```\n"
   ]
  },
  {
   "cell_type": "markdown",
   "metadata": {},
   "source": [
    "## **Question 3.a**\n",
    "\n",
    "[![image.png](https://i.postimg.cc/3wTjSK2g/image.png)](https://postimg.cc/TKtWhv7w)"
   ]
  },
  {
   "cell_type": "code",
   "execution_count": 4,
   "metadata": {},
   "outputs": [
    {
     "name": "stdout",
     "output_type": "stream",
     "text": [
      "List after removing duplicates: [1, 2, 3, 4, 5]\n",
      "List sorted by square of numbers: [1, 2, 3, 4, 5]\n"
     ]
    }
   ],
   "source": [
    "num_list = []\n",
    "\n",
    "n = int(input(\"Enter the number of elements: \"))\n",
    "\n",
    "for i in range(n):\n",
    "    num = int(input(f\"Enter number {i + 1}: \"))\n",
    "    num_list.append(num)\n",
    "\n",
    "def remove_duplicates(lst):\n",
    "    return list(set(lst))\n",
    "\n",
    "unique_list = remove_duplicates(num_list)\n",
    "print(f\"List after removing duplicates: {unique_list}\")\n",
    "\n",
    "def square(x):\n",
    "    return x ** 2\n",
    "\n",
    "def sort_by_square(lst):\n",
    "    return sorted(lst, key=square)\n",
    "\n",
    "sorted_list = sort_by_square(unique_list)\n",
    "print(f\"List sorted by square of numbers: {sorted_list}\")\n",
    "\n",
    "    "
   ]
  },
  {
   "cell_type": "markdown",
   "metadata": {},
   "source": [
    "## **Question 4.a**\n",
    "\n",
    "[![image.png](https://i.postimg.cc/q7vXnpnQ/image.png)](https://postimg.cc/87x6gQZr)"
   ]
  },
  {
   "cell_type": "code",
   "execution_count": 10,
   "metadata": {
    "dotnet_interactive": {
     "language": "csharp"
    },
    "polyglot_notebook": {
     "kernelName": "csharp"
    }
   },
   "outputs": [
    {
     "name": "stdout",
     "output_type": "stream",
     "text": [
      "[1, 4, 27, 64, 25]\n"
     ]
    }
   ],
   "source": [
    "num_list = []\n",
    "n = int(input(\"Enter the number of elements: \"))\n",
    "for i in range(n):\n",
    "    num = int(input(f\"Enter number {i + 1}: \"))\n",
    "    num_list.append(num)\n",
    "    \n",
    "new_list = []\n",
    "for num in num_list:\n",
    "    if num > 0:\n",
    "        new_list.append(num ** 3)\n",
    "    else:\n",
    "        new_list.append(num ** 2)\n",
    "print(new_list)"
   ]
  }
 ],
 "metadata": {
  "kernelspec": {
   "display_name": "Python 3",
   "language": "python",
   "name": "python3"
  },
  "language_info": {
   "codemirror_mode": {
    "name": "ipython",
    "version": 3
   },
   "file_extension": ".py",
   "mimetype": "text/x-python",
   "name": "python",
   "nbconvert_exporter": "python",
   "pygments_lexer": "ipython3",
   "version": "3.13.0"
  },
  "polyglot_notebook": {
   "kernelInfo": {
    "defaultKernelName": "csharp",
    "items": [
     {
      "aliases": [],
      "name": "csharp"
     }
    ]
   }
  }
 },
 "nbformat": 4,
 "nbformat_minor": 2
}
