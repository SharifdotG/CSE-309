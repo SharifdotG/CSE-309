{
 "cells": [
  {
   "cell_type": "markdown",
   "metadata": {},
   "source": [
    "# **CSE 309 - Mid Solve - Fall 2023**"
   ]
  },
  {
   "cell_type": "markdown",
   "metadata": {},
   "source": [
    "## **Question 1.a**\n",
    "\n",
    "[![image.png](https://i.postimg.cc/D0g25yhp/image.png)](https://postimg.cc/CnRTx0zb)"
   ]
  },
  {
   "cell_type": "code",
   "execution_count": 7,
   "metadata": {},
   "outputs": [
    {
     "name": "stdout",
     "output_type": "stream",
     "text": [
      "(3.0, 15)\n",
      "(1.5, 3)\n"
     ]
    }
   ],
   "source": [
    "def fun(*a):\n",
    "    sum1 = sum(a)\n",
    "\n",
    "    return sum1 / len(a), sum1\n",
    "    \n",
    "print(fun(1, 2, 3, 4, 5))\n",
    "print(fun(1, 2))"
   ]
  },
  {
   "cell_type": "markdown",
   "metadata": {},
   "source": [
    "## **Question 1.b**\n",
    "\n",
    "[![image.png](https://i.postimg.cc/Sx0h8McQ/image.png)](https://postimg.cc/dL9pcDWg)"
   ]
  },
  {
   "cell_type": "markdown",
   "metadata": {},
   "source": [
    "```python\n",
    "addition = 0\n",
    "my_list = [1, 2, 3, 4, 5, 6, 7, 8, 9, 10]\n",
    "output = my_list[-2:-9:-2]\n",
    "print(output)\n",
    "for i in output:\n",
    "    if (i / 2 == 0):\n",
    "        addition += i\n",
    "print(addition)\n",
    "```\n",
    "\n",
    "The output will be:\n",
    "[9, 7, 5, 3]\n",
    "0\n",
    "\n",
    "This is because the for loop is checking if the number is divisible by 2, but the numbers in the list are not divisible by 2. Therefore, the addition will remain 0."
   ]
  },
  {
   "cell_type": "markdown",
   "metadata": {},
   "source": [
    "## **Question 2**\n",
    "\n",
    "[![image.png](https://i.postimg.cc/SQBSL3hp/image.png)](https://postimg.cc/NLxvBNFN)"
   ]
  },
  {
   "cell_type": "markdown",
   "metadata": {},
   "source": [
    "```html\n",
    "<!DOCTYPE html>\n",
    "<html>\n",
    "    <head>\n",
    "        <title>Question 2</title>\n",
    "    </head>\n",
    "    <body>\n",
    "        <table border=\"1\">\n",
    "            <tr>\n",
    "                <th>Serial No.</th>\n",
    "                <th>Product Name</th>\n",
    "                <th>Product Price</th>\n",
    "            </tr>\n",
    "            <tr>\n",
    "                <td>1.</td>\n",
    "                <td>Rice</td>\n",
    "                <td>150</td>\n",
    "            </tr>\n",
    "            <tr>\n",
    "                <td>2.</td>\n",
    "                <td>Meat</td>\n",
    "                <td>350</td>\n",
    "            </tr>\n",
    "            <tr>\n",
    "                <td colspan=\"2\">Total</td>\n",
    "                <td>500</td>\n",
    "            </tr>\n",
    "        </table>\n",
    "    </body>\n",
    "</html>\n",
    "```\n"
   ]
  },
  {
   "cell_type": "markdown",
   "metadata": {},
   "source": [
    "## **Question 3**\n",
    "\n",
    "[![image.png](https://i.postimg.cc/sfp88NWz/image.png)](https://postimg.cc/z3G0Hpp2)"
   ]
  },
  {
   "cell_type": "code",
   "execution_count": 10,
   "metadata": {},
   "outputs": [
    {
     "name": "stdout",
     "output_type": "stream",
     "text": [
      "Brand: Toyota, Model: Camry, Year: 2020\n",
      "Mileage: 15 km/l\n"
     ]
    }
   ],
   "source": [
    "# a. Main class\n",
    "class Vehicle:\n",
    "    def __init__(self, brand, model, year):\n",
    "        self.brand = brand\n",
    "        self.model = model\n",
    "        self.year = year\n",
    "\n",
    "    def describe(self):\n",
    "        return f\"Brand: {self.brand}, Model: {self.model}, Year: {self.year}\"\n",
    "    \n",
    "# b. Subclass extending Vehicle\n",
    "class Car(Vehicle):\n",
    "    def __init__(self, brand, model, year, mileage):\n",
    "        super().__init__(brand, model, year)\n",
    "        self.mileage = mileage\n",
    "\n",
    "    def calculate_mileage(self):\n",
    "        return f\"Mileage: {self.mileage} km/l\"\n",
    "    \n",
    "# c. Example of creating a Car object and using its methods\n",
    "my_car = Car(\"Toyota\", \"Camry\", 2020, 15)\n",
    "\n",
    "print(my_car.describe())\n",
    "print(my_car.calculate_mileage())\n"
   ]
  }
 ],
 "metadata": {
  "kernelspec": {
   "display_name": "Python 3",
   "language": "python",
   "name": "python3"
  },
  "language_info": {
   "codemirror_mode": {
    "name": "ipython",
    "version": 3
   },
   "file_extension": ".py",
   "mimetype": "text/x-python",
   "name": "python",
   "nbconvert_exporter": "python",
   "pygments_lexer": "ipython3",
   "version": "3.13.0"
  }
 },
 "nbformat": 4,
 "nbformat_minor": 2
}
