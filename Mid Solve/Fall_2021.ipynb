{
 "cells": [
  {
   "cell_type": "markdown",
   "metadata": {},
   "source": [
    "# **CSE 309 - Mid Solve - Fall 2021**"
   ]
  },
  {
   "cell_type": "markdown",
   "metadata": {},
   "source": [
    "## **Question 1**\n",
    "\n",
    "[![image.png](https://i.postimg.cc/15wFVkN2/image.png)](https://postimg.cc/569yZkgS)"
   ]
  },
  {
   "cell_type": "code",
   "execution_count": 1,
   "metadata": {},
   "outputs": [
    {
     "name": "stdout",
     "output_type": "stream",
     "text": [
      "10\n",
      "5\n",
      "10\n"
     ]
    }
   ],
   "source": [
    "# 1\n",
    "class MyClass:\n",
    "    def MaxFromList(self, list):\n",
    "        return max(list)\n",
    "\n",
    "    def DivisibleByFive(self, list):\n",
    "        for i in list:\n",
    "            if i % 5 == 0:\n",
    "                print(i)\n",
    "\n",
    "\n",
    "obj = MyClass()\n",
    "print(obj.MaxFromList([1, 2, 3, 4, 5, 6, 7, 8, 9, 10]))\n",
    "obj.DivisibleByFive([1, 2, 3, 4, 5, 6, 7, 8, 9, 10])"
   ]
  },
  {
   "cell_type": "markdown",
   "metadata": {},
   "source": [
    "## **Question 2**\n",
    "\n",
    "[![image.png](https://i.postimg.cc/gkQMGbb7/image.png)](https://postimg.cc/N588xVM8)"
   ]
  },
  {
   "cell_type": "code",
   "execution_count": 3,
   "metadata": {
    "dotnet_interactive": {
     "language": "csharp"
    },
    "polyglot_notebook": {
     "kernelName": "csharp"
    }
   },
   "outputs": [
    {
     "name": "stdout",
     "output_type": "stream",
     "text": [
      "[1, 2, 3, 4, 5]\n",
      "5\n",
      "[2, 4, 5]\n",
      "[5, 4, 2, 1]\n"
     ]
    }
   ],
   "source": [
    "# a\n",
    "MyList = []\n",
    "\n",
    "# b\n",
    "for i in range(5):\n",
    "    MyList.append(int(input()))\n",
    "\n",
    "# c\n",
    "MyList.sort()\n",
    "\n",
    "# d\n",
    "print(MyList)\n",
    "\n",
    "# e\n",
    "print(len(MyList))\n",
    "\n",
    "# f\n",
    "MyList.remove(int(input()))\n",
    "\n",
    "# g\n",
    "print(MyList[-3:])\n",
    "\n",
    "# h\n",
    "print(MyList[::-1])\n"
   ]
  },
  {
   "cell_type": "markdown",
   "metadata": {},
   "source": [
    "## **Question 3**\n",
    "\n",
    "[![image.png](https://i.postimg.cc/C1xtzCPr/image.png)](https://postimg.cc/8J1J1J1J)"
   ]
  },
  {
   "cell_type": "markdown",
   "metadata": {},
   "source": [
    "```html\n",
    "<!DOCTYPE html>\n",
    "<html>\n",
    "    <head>\n",
    "        <style>\n",
    "            body {\n",
    "                font-family: Arial, sans-serif;\n",
    "            }\n",
    "            .section1 {\n",
    "                background-color: lightblue;\n",
    "                font-size: 16px;\n",
    "            }\n",
    "            .section2 {\n",
    "                background-color: lightgreen;\n",
    "                font-size: 18px;\n",
    "            }\n",
    "            .section3 {\n",
    "                background-color: lightcoral;\n",
    "                font-size: 14px;\n",
    "            }\n",
    "            form {\n",
    "                margin-top: 20px;\n",
    "            }\n",
    "        </style>\n",
    "    </head>\n",
    "    <body>\n",
    "        <div class=\"section1\">Section 1</div>\n",
    "        <div class=\"section2\">Section 2</div>\n",
    "        <div class=\"section3\">Section 3</div>\n",
    "\n",
    "        <form>\n",
    "            <label>First Name:</label>\n",
    "            <input type=\"text\" name=\"first-name\" /><br />\n",
    "            <label>Last Name:</label>\n",
    "            <input type=\"text\" name=\"last-name\" /><br />\n",
    "            <label>Gender:</label>\n",
    "            <input type=\"radio\" name=\"gender\" value=\"Male\" /> Male\n",
    "            <input type=\"radio\" name=\"gender\" value=\"Female\" /> Female<br />\n",
    "            <label>Programming Languages:</label><br />\n",
    "            <input type=\"checkbox\" name=\"languages\" value=\"C++\" /> C++\n",
    "            <input type=\"checkbox\" name=\"languages\" value=\"Java\" /> Java\n",
    "            <input type=\"checkbox\" name=\"languages\" value=\"Python\" /> Python\n",
    "            <input type=\"checkbox\" name=\"languages\" value=\"JavaScript\" />\n",
    "            JavaScript\n",
    "            <input type=\"checkbox\" name=\"languages\" value=\"Ruby\" /> Ruby\n",
    "        </form>\n",
    "    </body>\n",
    "</html>\n",
    "```\n"
   ]
  },
  {
   "cell_type": "markdown",
   "metadata": {},
   "source": [
    "## **Question 4**\n",
    "\n",
    "[![image.png](https://i.postimg.cc/L6trQs1T/image.png)](https://postimg.cc/tYgSYpDZ)"
   ]
  },
  {
   "cell_type": "code",
   "execution_count": 5,
   "metadata": {
    "dotnet_interactive": {
     "language": "csharp"
    },
    "polyglot_notebook": {
     "kernelName": "csharp"
    }
   },
   "outputs": [
    {
     "name": "stderr",
     "output_type": "stream",
     "text": [
      "Matplotlib is building the font cache; this may take a moment.\n"
     ]
    },
    {
     "data": {
      "image/png": "[encoded data removed]",
      "text/plain": [
       "<Figure size 640x480 with 1 Axes>"
      ]
     },
     "metadata": {},
     "output_type": "display_data"
    }
   ],
   "source": [
    "import matplotlib.pyplot as plt\n",
    "import random\n",
    "\n",
    "x = [random.randint(10, 99) for i in range(10)]\n",
    "y = [random.uniform(1, 10) for i in range(10)]\n",
    "\n",
    "plt.scatter(x, y)\n",
    "plt.xlabel(\"Integer Values\")\n",
    "plt.ylabel(\"Float Values\")\n",
    "plt.title(\"Scatter Plot\")\n",
    "plt.show()"
   ]
  }
 ],
 "metadata": {
  "kernelspec": {
   "display_name": "Python 3",
   "language": "python",
   "name": "python3"
  },
  "language_info": {
   "codemirror_mode": {
    "name": "ipython",
    "version": 3
   },
   "file_extension": ".py",
   "mimetype": "text/x-python",
   "name": "python",
   "nbconvert_exporter": "python",
   "pygments_lexer": "ipython3",
   "version": "3.13.0"
  },
  "polyglot_notebook": {
   "kernelInfo": {
    "defaultKernelName": "csharp",
    "items": [
     {
      "aliases": [],
      "name": "csharp"
     }
    ]
   }
  }
 },
 "nbformat": 4,
 "nbformat_minor": 2
}
