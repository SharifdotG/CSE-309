{
 "cells": [
  {
   "cell_type": "markdown",
   "metadata": {},
   "source": [
    "# **CSE 309 - Mid Solve - Spring 2023**"
   ]
  },
  {
   "cell_type": "markdown",
   "metadata": {},
   "source": [
    "## **Question 1.a**\n",
    "\n",
    "<img src=\"https://i.postimg.cc/MHVvb83v/image.png\" alt=\"Question 1.a\"/>"
   ]
  },
  {
   "cell_type": "markdown",
   "metadata": {},
   "source": [
    "```html\n",
    "<!DOCTYPE html>\n",
    "<html>\n",
    "    <head>\n",
    "        <title>Question 1.a</title>\n",
    "    </head>\n",
    "    <body>\n",
    "        <h1>HTML FORM</h1>\n",
    "\n",
    "        <form>\n",
    "            <label for=\"username\">Username:</label>\n",
    "            <input type=\"text\" id=\"username\" name=\"username\" />\n",
    "            <br /><br />\n",
    "\n",
    "            <label for=\"password\">Password:</label>\n",
    "            <input type=\"password\" id=\"password\" name=\"password\" />\n",
    "            <br /><br />\n",
    "\n",
    "            <label>Gender:</label>\n",
    "            <input type=\"radio\" name=\"gender\" /> Male\n",
    "            <input type=\"radio\" name=\"gender\" /> Female\n",
    "            <br /><br />\n",
    "\n",
    "            <label>Hobbies:</label>\n",
    "            <input type=\"checkbox\" name=\"hobbies\" /> Reading\n",
    "            <input type=\"checkbox\" name=\"hobbies\" /> Traveling\n",
    "            <input type=\"checkbox\" name=\"hobbies\" /> Sports\n",
    "            <br /><br />\n",
    "\n",
    "            <input type=\"submit\" value=\"Submit\" />\n",
    "        </form>\n",
    "    </body>\n",
    "</html>\n",
    "```"
   ]
  },
  {
   "cell_type": "markdown",
   "metadata": {},
   "source": [
    "## **Question 1.b**\n",
    "\n",
    "<img src=\"https://i.postimg.cc/J758JnPj/image.png\" alt=\"Question 1.b\"/>"
   ]
  },
  {
   "cell_type": "code",
   "execution_count": 1,
   "metadata": {},
   "outputs": [
    {
     "name": "stdout",
     "output_type": "stream",
     "text": [
      "5\n",
      "[1, 2, 3, 4, 5, 6]\n",
      "[1, 2, 7, 3, 4, 5, 6]\n",
      "[1, 2, 3, 4, 5, 6]\n",
      "[2, 3, 4, 5, 6]\n",
      "[2, 3, 4, 5, 6, 8, 9, 10]\n",
      "8\n",
      "[3, 4, 5]\n",
      "[2, 3, 4]\n",
      "[2, 3, 4, 5, 6, 8, 9, 10, 2, 3, 4, 5, 6, 8, 9, 10]\n"
     ]
    }
   ],
   "source": [
    "list = [1, 2, 3, 4, 5]\n",
    "print(list[-1])\n",
    "list.append(6)\n",
    "print(list)\n",
    "list.insert(2, 7)\n",
    "print(list)\n",
    "list.pop(2)\n",
    "print(list)\n",
    "list.remove(1)\n",
    "print(list)\n",
    "list = list + [8, 9, 10]\n",
    "print(list)\n",
    "print(len(list))\n",
    "print(list[1:4])\n",
    "print(list[:3])\n",
    "print(list*2)"
   ]
  },
  {
   "cell_type": "markdown",
   "metadata": {},
   "source": [
    "**The output of the code is above 👆🏻👆🏻👆🏻**"
   ]
  },
  {
   "cell_type": "markdown",
   "metadata": {},
   "source": [
    "## **Question 2**\n",
    "\n",
    "<img src=\"https://i.postimg.cc/3rV6b09s/image.png\" alt=\"Question 2\"/>"
   ]
  },
  {
   "cell_type": "markdown",
   "metadata": {},
   "source": [
    "```html\n",
    "<!DOCTYPE html>\n",
    "<html>\n",
    "    <head>\n",
    "        <title>Question 2</title>\n",
    "    </head>\n",
    "    <body>\n",
    "        <table border=\"1\">\n",
    "            <tr>\n",
    "                <th>Serial No.</th>\n",
    "                <th>Product Name</th>\n",
    "                <th>Product Price</th>\n",
    "            </tr>\n",
    "            <tr>\n",
    "                <td>1.</td>\n",
    "                <td>Rice</td>\n",
    "                <td>150</td>\n",
    "            </tr>\n",
    "            <tr>\n",
    "                <td>2.</td>\n",
    "                <td>Meat</td>\n",
    "                <td>350</td>\n",
    "            </tr>\n",
    "            <tr>\n",
    "                <td colspan=\"2\">Total</td>\n",
    "                <td>500</td>\n",
    "            </tr>\n",
    "        </table>\n",
    "    </body>\n",
    "</html>\n",
    "```\n"
   ]
  },
  {
   "cell_type": "markdown",
   "metadata": {},
   "source": [
    "## **Question 3**\n",
    "\n",
    "<img src=\"https://i.postimg.cc/sfp88NWz/image.png\" alt=\"Question 3\"/>"
   ]
  },
  {
   "cell_type": "code",
   "execution_count": 11,
   "metadata": {},
   "outputs": [
    {
     "name": "stdout",
     "output_type": "stream",
     "text": [
      "Asia Cup 2023 Teams and Players:\n",
      "Team: Bangladesh\n",
      "Captain: Shakib Al Hasan\n",
      "\n",
      "Squad:Name: Liton Kumar Das Role: Opening Batsman\n",
      "Name: Mushfiqur Rahim Role: Middle Order Batsman\n",
      "Name: Taskin Ahmed Role: Right-arm Fast Bowler\n"
     ]
    }
   ],
   "source": [
    "from abc import ABC, abstractmethod\n",
    "\n",
    "# Abstract base class CricketTeam\n",
    "class CricketTeam(ABC):\n",
    "    def __init__(self, name, captain):\n",
    "        self.name = name\n",
    "        self.captain = captain\n",
    "\n",
    "    @abstractmethod\n",
    "    def get_squad(self):\n",
    "        pass\n",
    "\n",
    "# Class Player to represent individual players\n",
    "class Player:\n",
    "    def __init__(self, name, role):\n",
    "        self.name = name\n",
    "        self.role = role\n",
    "\n",
    "# Concrete subclass AsiaCupTeam inheriting from CricketTeam\n",
    "class AsiaCupTeam(CricketTeam):\n",
    "    def __init__(self, name, captain):\n",
    "        super().__init__(name, captain)\n",
    "        self.players = []\n",
    "\n",
    "    def add_player(self, name, role):\n",
    "        player = Player(name, role)\n",
    "        self.players.append(player)\n",
    "\n",
    "    # Implementing abstract method\n",
    "    def get_squad(self):\n",
    "        return self.players\n",
    "\n",
    "# Main program\n",
    "print(\"Asia Cup 2023 Teams and Players:\")\n",
    "\n",
    "bd_team = AsiaCupTeam(\"Bangladesh\", \"Shakib Al Hasan\")\n",
    "bd_team.add_player(\"Liton Kumar Das\", \"Opening Batsman\")\n",
    "bd_team.add_player(\"Mushfiqur Rahim\", \"Middle Order Batsman\")\n",
    "bd_team.add_player(\"Taskin Ahmed\", \"Right-arm Fast Bowler\")\n",
    "\n",
    "print(f\"Team: {bd_team.name}\")\n",
    "print(f\"Captain: {bd_team.captain}\\n\")\n",
    "\n",
    "print(\"Squad:\", end=\"\")\n",
    "for player in bd_team.get_squad():\n",
    "    print(f\"Name: {player.name} Role: {player.role}\")\n"
   ]
  }
 ],
 "metadata": {
  "kernelspec": {
   "display_name": "Python 3",
   "language": "python",
   "name": "python3"
  },
  "language_info": {
   "codemirror_mode": {
    "name": "ipython",
    "version": 3
   },
   "file_extension": ".py",
   "mimetype": "text/x-python",
   "name": "python",
   "nbconvert_exporter": "python",
   "pygments_lexer": "ipython3",
   "version": "3.13.0"
  }
 },
 "nbformat": 4,
 "nbformat_minor": 2
}
