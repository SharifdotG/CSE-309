{
 "cells": [
  {
   "cell_type": "markdown",
   "metadata": {},
   "source": [
    "# **CSE 309 - Mid Solve - Spring 2022**"
   ]
  },
  {
   "cell_type": "markdown",
   "metadata": {},
   "source": [
    "## **Question 1.a**\n",
    "\n",
    "<img src=\"https://i.postimg.cc/T2K6YGWj/image.png\" alt=\"Question 1.a\"/>"
   ]
  },
  {
   "cell_type": "code",
   "execution_count": 3,
   "metadata": {},
   "outputs": [
    {
     "name": "stdout",
     "output_type": "stream",
     "text": [
      "2.2\n",
      "c\n"
     ]
    }
   ],
   "source": [
    "# 1.a.i\n",
    "x = float(input()) # Made the input a float\n",
    "y = float(input()) # Made the input a float\n",
    "print((x + y) / 5) # It will print a floating point number as the output\n",
    "\n",
    "# 1.a.ii\n",
    "a = [\"a\", \"b\", \"d\"]\n",
    "a.append(\"c\") # Using the append method to add \"c\" to the list, instead of using the add() method\n",
    "print(a[3])"
   ]
  },
  {
   "cell_type": "markdown",
   "metadata": {},
   "source": [
    "## **Question 1.b**\n",
    "\n",
    "<img src=\"https://i.postimg.cc/SRcXB96V/image.png\" alt=\"Question 1.b\"/>"
   ]
  },
  {
   "cell_type": "code",
   "execution_count": null,
   "metadata": {
    "dotnet_interactive": {
     "language": "csharp"
    },
    "polyglot_notebook": {
     "kernelName": "csharp"
    }
   },
   "outputs": [],
   "source": [
    "with open(\"input.txt\", \"r\") as file:\n",
    "    data = file.read()\n",
    "    words = data.split()\n",
    "    \n",
    "    with open(\"output.txt\", \"w\") as file:\n",
    "        for word in words:\n",
    "            file.write(word + \"\\n\")"
   ]
  },
  {
   "cell_type": "markdown",
   "metadata": {},
   "source": [
    "## **Question 2.a**\n",
    "\n",
    "<img src=\"https://i.postimg.cc/xTtjcg1M/image.png\" alt=\"Question 2.a\"/>"
   ]
  },
  {
   "cell_type": "code",
   "execution_count": 4,
   "metadata": {
    "dotnet_interactive": {
     "language": "csharp"
    },
    "polyglot_notebook": {
     "kernelName": "csharp"
    }
   },
   "outputs": [
    {
     "name": "stdout",
     "output_type": "stream",
     "text": [
      "Speed: 100 Km/h, Number of Wheels: 4\n"
     ]
    }
   ],
   "source": [
    "class Vehicle:\n",
    "    def __init__(self, speed, number_of_wheels):\n",
    "        self.speed = speed\n",
    "        self.number_of_wheels = number_of_wheels\n",
    "\n",
    "    def print_info(self):\n",
    "        print(f\"Speed: {self.speed} Km/h, Number of Wheels: {self.number_of_wheels}\")\n",
    "        \n",
    "vehicle = Vehicle(100, 4)\n",
    "vehicle.print_info()"
   ]
  },
  {
   "cell_type": "markdown",
   "metadata": {},
   "source": [
    "## **Question 2.b**\n",
    "\n",
    "<img src=\"https://i.postimg.cc/KzZsk7z3/image.png\" alt=\"Question 2.b\"/>"
   ]
  },
  {
   "cell_type": "code",
   "execution_count": 17,
   "metadata": {
    "dotnet_interactive": {
     "language": "csharp"
    },
    "polyglot_notebook": {
     "kernelName": "csharp"
    }
   },
   "outputs": [
    {
     "name": "stdout",
     "output_type": "stream",
     "text": [
      "Mr.Eren\n",
      "Yeager\n",
      "20\n"
     ]
    }
   ],
   "source": [
    "'''\n",
    "The Wrong Code:\n",
    "\n",
    "class Person:\n",
    "    fname = \"Mr.\"\n",
    "    age = 10\n",
    "    def __init__(self, fname, lname, age):\n",
    "        self.fname = self.fname + fname\n",
    "        self.lname = lname\n",
    "        self.age = age\n",
    "\n",
    "    def increase_age(self,inc):\n",
    "        self.age += inc\n",
    "\n",
    "    def print_info(self):\n",
    "        print(self.fname)\n",
    "        print(self.lname)\n",
    "        print(self.age)\n",
    "\n",
    "person1 = Person(\"Eren\",\"Yeager\",12)\n",
    "person1.increase_age(8)\n",
    "person1.print_info()\n",
    "'''\n",
    "\n",
    "# The Corrected Code:\n",
    "class Person:\n",
    "    fname = \"Mr.\"\n",
    "    age = 10\n",
    "    def __init__(self, fname, lname, age): # Fixed the __init__ method to access the class variables\n",
    "        self.fname = self.fname + fname\n",
    "        self.lname = lname\n",
    "        self.age = age\n",
    "\n",
    "    def increase_age(self,inc):\n",
    "        self.age += inc # Added self to age to access the class variable\n",
    "\n",
    "    def print_info(self): # Added self to the method to access the class variables\n",
    "        print(self.fname)\n",
    "        print(self.lname)\n",
    "        print(self.age)\n",
    "        \n",
    "person1 = Person(\"Eren\",\"Yeager\",12)\n",
    "person1.increase_age(8)\n",
    "person1.print_info()"
   ]
  },
  {
   "cell_type": "markdown",
   "metadata": {},
   "source": [
    "## **Question 3**\n",
    "\n",
    "<img src=\"https://i.postimg.cc/rmBjGSy9/image.png\" alt=\"Question 3\"/>"
   ]
  },
  {
   "cell_type": "code",
   "execution_count": 20,
   "metadata": {},
   "outputs": [
    {
     "name": "stdout",
     "output_type": "stream",
     "text": [
      "2\n",
      "3\n",
      "5\n",
      "6\n",
      "5\n",
      "10\n"
     ]
    }
   ],
   "source": [
    "# 3\n",
    "def sort_integers(*a):\n",
    "    a = sorted(a)\n",
    "    for i in a:\n",
    "        print(i)\n",
    "        \n",
    "sort_integers(3, 5, 2, 6)\n",
    "sort_integers(10, 5)"
   ]
  },
  {
   "cell_type": "markdown",
   "metadata": {},
   "source": [
    "## **Question 4**\n",
    "\n",
    "<img src=\"https://i.postimg.cc/y8mMD8P5/image.png\" alt=\"Question 4\"/>"
   ]
  },
  {
   "cell_type": "code",
   "execution_count": 21,
   "metadata": {},
   "outputs": [
    {
     "name": "stdout",
     "output_type": "stream",
     "text": [
      "20\n"
     ]
    }
   ],
   "source": [
    "def function(list1, list2):\n",
    "    sum1 = sum2 = 0\n",
    "    for i in range(len(list1)):\n",
    "        if (i % 2 == 0):\n",
    "            sum1 += list1[i]\n",
    "            \n",
    "    for i in range(len(list2)):\n",
    "        if (i % 3 == 0):\n",
    "            sum2 += list2[i]\n",
    "            \n",
    "    return max(sum1, sum2)\n",
    "\n",
    "print(function([10, 2, -2, 5, 8, 6, 2, 21], [8, 10, 11, 7, 3, 9, 5, 6, 1]))"
   ]
  }
 ],
 "metadata": {
  "kernelspec": {
   "display_name": "Python 3",
   "language": "python",
   "name": "python3"
  },
  "language_info": {
   "codemirror_mode": {
    "name": "ipython",
    "version": 3
   },
   "file_extension": ".py",
   "mimetype": "text/x-python",
   "name": "python",
   "nbconvert_exporter": "python",
   "pygments_lexer": "ipython3",
   "version": "3.13.0"
  },
  "polyglot_notebook": {
   "kernelInfo": {
    "defaultKernelName": "csharp",
    "items": [
     {
      "aliases": [],
      "name": "csharp"
     }
    ]
   }
  }
 },
 "nbformat": 4,
 "nbformat_minor": 2
}
